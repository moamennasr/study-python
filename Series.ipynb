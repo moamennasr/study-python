{
 "cells": [
  {
   "cell_type": "markdown",
   "id": "d2654d2b",
   "metadata": {},
   "source": [
    "# Intro to Methods"
   ]
  },
  {
   "cell_type": "code",
   "execution_count": 4,
   "id": "9f40d5e1",
   "metadata": {},
   "outputs": [
    {
     "data": {
      "text/plain": [
       "0    1.5\n",
       "1    2.0\n",
       "dtype: float64"
      ]
     },
     "execution_count": 4,
     "metadata": {},
     "output_type": "execute_result"
    }
   ],
   "source": [
    "import pandas as pd\n",
    "con = [1.5, 2]\n",
    "s = pd.Series(con)\n",
    "s"
   ]
  },
  {
   "cell_type": "code",
   "execution_count": 5,
   "id": "b8ed039d",
   "metadata": {},
   "outputs": [
    {
     "data": {
      "text/plain": [
       "3.5"
      ]
     },
     "execution_count": 5,
     "metadata": {},
     "output_type": "execute_result"
    }
   ],
   "source": [
    "s.sum()   \"+\""
   ]
  },
  {
   "cell_type": "code",
   "execution_count": 6,
   "id": "6e3b461d",
   "metadata": {},
   "outputs": [
    {
     "data": {
      "text/plain": [
       "3.0"
      ]
     },
     "execution_count": 6,
     "metadata": {},
     "output_type": "execute_result"
    }
   ],
   "source": [
    "s.product()  \"*\" "
   ]
  },
  {
   "cell_type": "code",
   "execution_count": 7,
   "id": "628eb9bc",
   "metadata": {},
   "outputs": [
    {
     "data": {
      "text/plain": [
       "1.75"
      ]
     },
     "execution_count": 7,
     "metadata": {},
     "output_type": "execute_result"
    }
   ],
   "source": [
    "s.mean()    \"average\""
   ]
  },
  {
   "cell_type": "markdown",
   "id": "22cf9911",
   "metadata": {},
   "source": [
    "# parameters & arguments"
   ]
  },
  {
   "cell_type": "code",
   "execution_count": 13,
   "id": "90d5a64f",
   "metadata": {},
   "outputs": [
    {
     "data": {
      "text/plain": [
       "Monday           apple\n",
       "Tuesday         orange\n",
       "Wednesday         plum\n",
       "Thursday          Grap\n",
       "Friday       blueberry\n",
       "dtype: object"
      ]
     },
     "execution_count": 13,
     "metadata": {},
     "output_type": "execute_result"
    }
   ],
   "source": [
    "week_days = [ \"Monday\", \"Tuesday\", \"Wednesday\", \"Thursday\", \"Friday\"]\n",
    "fruits = [\"apple\", \"orange\", \"plum\", \"Grap\", \"blueberry\"]\n",
    "pd.Series(fruits, week_days)"
   ]
  },
  {
   "cell_type": "code",
   "execution_count": null,
   "id": "c90b41e6",
   "metadata": {},
   "outputs": [],
   "source": []
  }
 ],
 "metadata": {
  "kernelspec": {
   "display_name": "Python 3 (ipykernel)",
   "language": "python",
   "name": "python3"
  },
  "language_info": {
   "codemirror_mode": {
    "name": "ipython",
    "version": 3
   },
   "file_extension": ".py",
   "mimetype": "text/x-python",
   "name": "python",
   "nbconvert_exporter": "python",
   "pygments_lexer": "ipython3",
   "version": "3.9.7"
  }
 },
 "nbformat": 4,
 "nbformat_minor": 5
}
