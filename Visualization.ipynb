{
 "cells": [
  {
   "cell_type": "code",
   "execution_count": 2,
   "id": "e51ca540",
   "metadata": {},
   "outputs": [],
   "source": [
    "import pandas as pd\n",
    "from pandas_datareader import data\n",
    "import matplotlib.pyplot as plt\n",
    "%matplotlib inline"
   ]
  },
  {
   "cell_type": "markdown",
   "id": "1fa3d160",
   "metadata": {},
   "source": [
    "# Use The plot Method To Render A Line Chart"
   ]
  },
  {
   "cell_type": "code",
   "execution_count": 3,
   "id": "55c8fbca",
   "metadata": {},
   "outputs": [
    {
     "data": {
      "text/html": [
       "<div>\n",
       "<style scoped>\n",
       "    .dataframe tbody tr th:only-of-type {\n",
       "        vertical-align: middle;\n",
       "    }\n",
       "\n",
       "    .dataframe tbody tr th {\n",
       "        vertical-align: top;\n",
       "    }\n",
       "\n",
       "    .dataframe thead th {\n",
       "        text-align: right;\n",
       "    }\n",
       "</style>\n",
       "<table border=\"1\" class=\"dataframe\">\n",
       "  <thead>\n",
       "    <tr style=\"text-align: right;\">\n",
       "      <th></th>\n",
       "      <th>High</th>\n",
       "      <th>Low</th>\n",
       "      <th>Open</th>\n",
       "      <th>Close</th>\n",
       "      <th>Volume</th>\n",
       "      <th>Adj Close</th>\n",
       "    </tr>\n",
       "    <tr>\n",
       "      <th>Date</th>\n",
       "      <th></th>\n",
       "      <th></th>\n",
       "      <th></th>\n",
       "      <th></th>\n",
       "      <th></th>\n",
       "      <th></th>\n",
       "    </tr>\n",
       "  </thead>\n",
       "  <tbody>\n",
       "    <tr>\n",
       "      <th>2007-01-03</th>\n",
       "      <td>44.026669</td>\n",
       "      <td>41.703335</td>\n",
       "      <td>43.086666</td>\n",
       "      <td>42.849998</td>\n",
       "      <td>34739100.0</td>\n",
       "      <td>42.849998</td>\n",
       "    </tr>\n",
       "    <tr>\n",
       "      <th>2007-01-04</th>\n",
       "      <td>46.316666</td>\n",
       "      <td>42.423332</td>\n",
       "      <td>42.953335</td>\n",
       "      <td>46.189999</td>\n",
       "      <td>46007700.0</td>\n",
       "      <td>46.189999</td>\n",
       "    </tr>\n",
       "    <tr>\n",
       "      <th>2007-01-05</th>\n",
       "      <td>47.306667</td>\n",
       "      <td>45.166668</td>\n",
       "      <td>45.500000</td>\n",
       "      <td>47.099998</td>\n",
       "      <td>41453400.0</td>\n",
       "      <td>47.099998</td>\n",
       "    </tr>\n",
       "    <tr>\n",
       "      <th>2007-01-08</th>\n",
       "      <td>48.410000</td>\n",
       "      <td>46.606667</td>\n",
       "      <td>47.283333</td>\n",
       "      <td>47.386665</td>\n",
       "      <td>38547300.0</td>\n",
       "      <td>47.386665</td>\n",
       "    </tr>\n",
       "    <tr>\n",
       "      <th>2007-01-09</th>\n",
       "      <td>47.666668</td>\n",
       "      <td>43.263332</td>\n",
       "      <td>47.570000</td>\n",
       "      <td>43.666668</td>\n",
       "      <td>74142000.0</td>\n",
       "      <td>43.666668</td>\n",
       "    </tr>\n",
       "    <tr>\n",
       "      <th>...</th>\n",
       "      <td>...</td>\n",
       "      <td>...</td>\n",
       "      <td>...</td>\n",
       "      <td>...</td>\n",
       "      <td>...</td>\n",
       "      <td>...</td>\n",
       "    </tr>\n",
       "    <tr>\n",
       "      <th>2019-12-24</th>\n",
       "      <td>6.530000</td>\n",
       "      <td>6.340000</td>\n",
       "      <td>6.470000</td>\n",
       "      <td>6.360000</td>\n",
       "      <td>4680400.0</td>\n",
       "      <td>6.360000</td>\n",
       "    </tr>\n",
       "    <tr>\n",
       "      <th>2019-12-26</th>\n",
       "      <td>6.510000</td>\n",
       "      <td>6.350000</td>\n",
       "      <td>6.390000</td>\n",
       "      <td>6.430000</td>\n",
       "      <td>3681900.0</td>\n",
       "      <td>6.430000</td>\n",
       "    </tr>\n",
       "    <tr>\n",
       "      <th>2019-12-27</th>\n",
       "      <td>6.500000</td>\n",
       "      <td>6.380000</td>\n",
       "      <td>6.430000</td>\n",
       "      <td>6.450000</td>\n",
       "      <td>5255000.0</td>\n",
       "      <td>6.450000</td>\n",
       "    </tr>\n",
       "    <tr>\n",
       "      <th>2019-12-30</th>\n",
       "      <td>6.510000</td>\n",
       "      <td>6.320000</td>\n",
       "      <td>6.420000</td>\n",
       "      <td>6.420000</td>\n",
       "      <td>6037500.0</td>\n",
       "      <td>6.420000</td>\n",
       "    </tr>\n",
       "    <tr>\n",
       "      <th>2019-12-31</th>\n",
       "      <td>6.520000</td>\n",
       "      <td>6.390000</td>\n",
       "      <td>6.420000</td>\n",
       "      <td>6.420000</td>\n",
       "      <td>5404400.0</td>\n",
       "      <td>6.420000</td>\n",
       "    </tr>\n",
       "  </tbody>\n",
       "</table>\n",
       "<p>3272 rows × 6 columns</p>\n",
       "</div>"
      ],
      "text/plain": [
       "                 High        Low       Open      Close      Volume  Adj Close\n",
       "Date                                                                         \n",
       "2007-01-03  44.026669  41.703335  43.086666  42.849998  34739100.0  42.849998\n",
       "2007-01-04  46.316666  42.423332  42.953335  46.189999  46007700.0  46.189999\n",
       "2007-01-05  47.306667  45.166668  45.500000  47.099998  41453400.0  47.099998\n",
       "2007-01-08  48.410000  46.606667  47.283333  47.386665  38547300.0  47.386665\n",
       "2007-01-09  47.666668  43.263332  47.570000  43.666668  74142000.0  43.666668\n",
       "...               ...        ...        ...        ...         ...        ...\n",
       "2019-12-24   6.530000   6.340000   6.470000   6.360000   4680400.0   6.360000\n",
       "2019-12-26   6.510000   6.350000   6.390000   6.430000   3681900.0   6.430000\n",
       "2019-12-27   6.500000   6.380000   6.430000   6.450000   5255000.0   6.450000\n",
       "2019-12-30   6.510000   6.320000   6.420000   6.420000   6037500.0   6.420000\n",
       "2019-12-31   6.520000   6.390000   6.420000   6.420000   5404400.0   6.420000\n",
       "\n",
       "[3272 rows x 6 columns]"
      ]
     },
     "execution_count": 3,
     "metadata": {},
     "output_type": "execute_result"
    }
   ],
   "source": [
    "bb = data.DataReader(name=\"BB\", data_source=\"yahoo\", start=\"2007-01-01\", end=\"2020-01-01\")\n",
    "bb"
   ]
  },
  {
   "cell_type": "code",
   "execution_count": 4,
   "id": "b60a050a",
   "metadata": {},
   "outputs": [
    {
     "data": {
      "text/plain": [
       "<AxesSubplot:xlabel='Date'>"
      ]
     },
     "execution_count": 4,
     "metadata": {},
     "output_type": "execute_result"
    },
    {
     "data": {
      "image/png": "[encoded data removed]",
      "text/plain": [
       "<Figure size 432x288 with 1 Axes>"
      ]
     },
     "metadata": {
      "needs_background": "light"
     },
     "output_type": "display_data"
    }
   ],
   "source": [
    "bb.plot()"
   ]
  },
  {
   "cell_type": "code",
   "execution_count": 5,
   "id": "2258d957",
   "metadata": {},
   "outputs": [
    {
     "data": {
      "text/plain": [
       "<AxesSubplot:xlabel='Date'>"
      ]
     },
     "execution_count": 5,
     "metadata": {},
     "output_type": "execute_result"
    },
    {
     "data": {
      "image/png": "[encoded data removed]",
      "text/plain": [
       "<Figure size 432x288 with 1 Axes>"
      ]
     },
     "metadata": {
      "needs_background": "light"
     },
     "output_type": "display_data"
    }
   ],
   "source": [
    "bb.plot(y= \"High\")"
   ]
  },
  {
   "cell_type": "code",
   "execution_count": 6,
   "id": "0bd78847",
   "metadata": {},
   "outputs": [
    {
     "data": {
      "text/plain": [
       "<AxesSubplot:xlabel='Date'>"
      ]
     },
     "execution_count": 6,
     "metadata": {},
     "output_type": "execute_result"
    },
    {
     "data": {
      "image/png": "[encoded data removed]",
      "text/plain": [
       "<Figure size 432x288 with 1 Axes>"
      ]
     },
     "metadata": {
      "needs_background": "light"
     },
     "output_type": "display_data"
    }
   ],
   "source": [
    "bb[\"Low\"].plot()"
   ]
  },
  {
   "cell_type": "code",
   "execution_count": 4,
   "id": "c5ad991e",
   "metadata": {},
   "outputs": [
    {
     "data": {
      "text/plain": [
       "<AxesSubplot:xlabel='Date'>"
      ]
     },
     "execution_count": 4,
     "metadata": {},
     "output_type": "execute_result"
    },
    {
     "data": {
      "image/png": "[encoded data removed]",
      "text/plain": [
       "<Figure size 432x288 with 1 Axes>"
      ]
     },
     "metadata": {
      "needs_background": "light"
     },
     "output_type": "display_data"
    }
   ],
   "source": [
    " bb[[\"Low\", \"High\", \"Close\"]].plot()"
   ]
  },
  {
   "cell_type": "markdown",
   "id": "a58476ef",
   "metadata": {},
   "source": [
    "# Modifying Plot Aesthetics With Mateplotlib Templates"
   ]
  },
  {
   "cell_type": "code",
   "execution_count": 5,
   "id": "21c9e5fa",
   "metadata": {},
   "outputs": [
    {
     "data": {
      "text/html": [
       "<div>\n",
       "<style scoped>\n",
       "    .dataframe tbody tr th:only-of-type {\n",
       "        vertical-align: middle;\n",
       "    }\n",
       "\n",
       "    .dataframe tbody tr th {\n",
       "        vertical-align: top;\n",
       "    }\n",
       "\n",
       "    .dataframe thead th {\n",
       "        text-align: right;\n",
       "    }\n",
       "</style>\n",
       "<table border=\"1\" class=\"dataframe\">\n",
       "  <thead>\n",
       "    <tr style=\"text-align: right;\">\n",
       "      <th></th>\n",
       "      <th>High</th>\n",
       "      <th>Low</th>\n",
       "      <th>Open</th>\n",
       "      <th>Close</th>\n",
       "      <th>Volume</th>\n",
       "      <th>Adj Close</th>\n",
       "    </tr>\n",
       "    <tr>\n",
       "      <th>Date</th>\n",
       "      <th></th>\n",
       "      <th></th>\n",
       "      <th></th>\n",
       "      <th></th>\n",
       "      <th></th>\n",
       "      <th></th>\n",
       "    </tr>\n",
       "  </thead>\n",
       "  <tbody>\n",
       "    <tr>\n",
       "      <th>2007-01-03</th>\n",
       "      <td>44.026669</td>\n",
       "      <td>41.703335</td>\n",
       "      <td>43.086666</td>\n",
       "      <td>42.849998</td>\n",
       "      <td>34739100.0</td>\n",
       "      <td>42.849998</td>\n",
       "    </tr>\n",
       "    <tr>\n",
       "      <th>2007-01-04</th>\n",
       "      <td>46.316666</td>\n",
       "      <td>42.423332</td>\n",
       "      <td>42.953335</td>\n",
       "      <td>46.189999</td>\n",
       "      <td>46007700.0</td>\n",
       "      <td>46.189999</td>\n",
       "    </tr>\n",
       "    <tr>\n",
       "      <th>2007-01-05</th>\n",
       "      <td>47.306667</td>\n",
       "      <td>45.166668</td>\n",
       "      <td>45.500000</td>\n",
       "      <td>47.099998</td>\n",
       "      <td>41453400.0</td>\n",
       "      <td>47.099998</td>\n",
       "    </tr>\n",
       "    <tr>\n",
       "      <th>2007-01-08</th>\n",
       "      <td>48.410000</td>\n",
       "      <td>46.606667</td>\n",
       "      <td>47.283333</td>\n",
       "      <td>47.386665</td>\n",
       "      <td>38547300.0</td>\n",
       "      <td>47.386665</td>\n",
       "    </tr>\n",
       "    <tr>\n",
       "      <th>2007-01-09</th>\n",
       "      <td>47.666668</td>\n",
       "      <td>43.263332</td>\n",
       "      <td>47.570000</td>\n",
       "      <td>43.666668</td>\n",
       "      <td>74142000.0</td>\n",
       "      <td>43.666668</td>\n",
       "    </tr>\n",
       "    <tr>\n",
       "      <th>...</th>\n",
       "      <td>...</td>\n",
       "      <td>...</td>\n",
       "      <td>...</td>\n",
       "      <td>...</td>\n",
       "      <td>...</td>\n",
       "      <td>...</td>\n",
       "    </tr>\n",
       "    <tr>\n",
       "      <th>2019-12-24</th>\n",
       "      <td>6.530000</td>\n",
       "      <td>6.340000</td>\n",
       "      <td>6.470000</td>\n",
       "      <td>6.360000</td>\n",
       "      <td>4680400.0</td>\n",
       "      <td>6.360000</td>\n",
       "    </tr>\n",
       "    <tr>\n",
       "      <th>2019-12-26</th>\n",
       "      <td>6.510000</td>\n",
       "      <td>6.350000</td>\n",
       "      <td>6.390000</td>\n",
       "      <td>6.430000</td>\n",
       "      <td>3681900.0</td>\n",
       "      <td>6.430000</td>\n",
       "    </tr>\n",
       "    <tr>\n",
       "      <th>2019-12-27</th>\n",
       "      <td>6.500000</td>\n",
       "      <td>6.380000</td>\n",
       "      <td>6.430000</td>\n",
       "      <td>6.450000</td>\n",
       "      <td>5255000.0</td>\n",
       "      <td>6.450000</td>\n",
       "    </tr>\n",
       "    <tr>\n",
       "      <th>2019-12-30</th>\n",
       "      <td>6.510000</td>\n",
       "      <td>6.320000</td>\n",
       "      <td>6.420000</td>\n",
       "      <td>6.420000</td>\n",
       "      <td>6037500.0</td>\n",
       "      <td>6.420000</td>\n",
       "    </tr>\n",
       "    <tr>\n",
       "      <th>2019-12-31</th>\n",
       "      <td>6.520000</td>\n",
       "      <td>6.390000</td>\n",
       "      <td>6.420000</td>\n",
       "      <td>6.420000</td>\n",
       "      <td>5404400.0</td>\n",
       "      <td>6.420000</td>\n",
       "    </tr>\n",
       "  </tbody>\n",
       "</table>\n",
       "<p>3272 rows × 6 columns</p>\n",
       "</div>"
      ],
      "text/plain": [
       "                 High        Low       Open      Close      Volume  Adj Close\n",
       "Date                                                                         \n",
       "2007-01-03  44.026669  41.703335  43.086666  42.849998  34739100.0  42.849998\n",
       "2007-01-04  46.316666  42.423332  42.953335  46.189999  46007700.0  46.189999\n",
       "2007-01-05  47.306667  45.166668  45.500000  47.099998  41453400.0  47.099998\n",
       "2007-01-08  48.410000  46.606667  47.283333  47.386665  38547300.0  47.386665\n",
       "2007-01-09  47.666668  43.263332  47.570000  43.666668  74142000.0  43.666668\n",
       "...               ...        ...        ...        ...         ...        ...\n",
       "2019-12-24   6.530000   6.340000   6.470000   6.360000   4680400.0   6.360000\n",
       "2019-12-26   6.510000   6.350000   6.390000   6.430000   3681900.0   6.430000\n",
       "2019-12-27   6.500000   6.380000   6.430000   6.450000   5255000.0   6.450000\n",
       "2019-12-30   6.510000   6.320000   6.420000   6.420000   6037500.0   6.420000\n",
       "2019-12-31   6.520000   6.390000   6.420000   6.420000   5404400.0   6.420000\n",
       "\n",
       "[3272 rows x 6 columns]"
      ]
     },
     "execution_count": 5,
     "metadata": {},
     "output_type": "execute_result"
    }
   ],
   "source": [
    "bb = data.DataReader(name=\"BB\", data_source=\"yahoo\", start=\"2007-01-01\", end=\"2020-01-01\")\n",
    "bb"
   ]
  },
  {
   "cell_type": "code",
   "execution_count": 6,
   "id": "9d528b7d",
   "metadata": {},
   "outputs": [
    {
     "data": {
      "text/plain": [
       "['Solarize_Light2',\n",
       " '_classic_test_patch',\n",
       " '_mpl-gallery',\n",
       " '_mpl-gallery-nogrid',\n",
       " 'bmh',\n",
       " 'classic',\n",
       " 'dark_background',\n",
       " 'fast',\n",
       " 'fivethirtyeight',\n",
       " 'ggplot',\n",
       " 'grayscale',\n",
       " 'seaborn',\n",
       " 'seaborn-bright',\n",
       " 'seaborn-colorblind',\n",
       " 'seaborn-dark',\n",
       " 'seaborn-dark-palette',\n",
       " 'seaborn-darkgrid',\n",
       " 'seaborn-deep',\n",
       " 'seaborn-muted',\n",
       " 'seaborn-notebook',\n",
       " 'seaborn-paper',\n",
       " 'seaborn-pastel',\n",
       " 'seaborn-poster',\n",
       " 'seaborn-talk',\n",
       " 'seaborn-ticks',\n",
       " 'seaborn-white',\n",
       " 'seaborn-whitegrid',\n",
       " 'tableau-colorblind10']"
      ]
     },
     "execution_count": 6,
     "metadata": {},
     "output_type": "execute_result"
    }
   ],
   "source": [
    "plt.style.available"
   ]
  },
  {
   "cell_type": "code",
   "execution_count": 8,
   "id": "8bb91546",
   "metadata": {},
   "outputs": [
    {
     "data": {
      "text/plain": [
       "<AxesSubplot:xlabel='Date'>"
      ]
     },
     "execution_count": 8,
     "metadata": {},
     "output_type": "execute_result"
    },
    {
     "data": {
      "image/png": "[encoded data removed]",
      "text/plain": [
       "<Figure size 432x288 with 1 Axes>"
      ]
     },
     "metadata": {},
     "output_type": "display_data"
    }
   ],
   "source": [
    "plt.style.use('fivethirtyeight')\n",
    "bb.plot(y=\"Volume\")"
   ]
  },
  {
   "cell_type": "code",
   "execution_count": 10,
   "id": "2d62bdf2",
   "metadata": {},
   "outputs": [
    {
     "data": {
      "text/plain": [
       "<AxesSubplot:xlabel='Date'>"
      ]
     },
     "execution_count": 10,
     "metadata": {},
     "output_type": "execute_result"
    },
    {
     "data": {
      "image/png": "[encoded data removed]",
      "text/plain": [
       "<Figure size 432x288 with 1 Axes>"
      ]
     },
     "metadata": {},
     "output_type": "display_data"
    }
   ],
   "source": [
    "plt.style.use('dark_background')\n",
    "bb.plot(y=\"Volume\")"
   ]
  },
  {
   "cell_type": "code",
   "execution_count": 11,
   "id": "64e7d924",
   "metadata": {},
   "outputs": [
    {
     "data": {
      "text/plain": [
       "<AxesSubplot:xlabel='Date'>"
      ]
     },
     "execution_count": 11,
     "metadata": {},
     "output_type": "execute_result"
    },
    {
     "data": {
      "image/png": "[encoded data removed]",
      "text/plain": [
       "<Figure size 432x288 with 1 Axes>"
      ]
     },
     "metadata": {},
     "output_type": "display_data"
    }
   ],
   "source": [
    "plt.style.use('ggplot')\n",
    "bb.plot(y=\"Volume\")"
   ]
  },
  {
   "cell_type": "markdown",
   "id": "c329dba8",
   "metadata": {},
   "source": [
    "# Creating Bar Graphs To Show Counts"
   ]
  },
  {
   "cell_type": "code",
   "execution_count": 12,
   "id": "bbabb3a9",
   "metadata": {},
   "outputs": [
    {
     "data": {
      "text/html": [
       "<div>\n",
       "<style scoped>\n",
       "    .dataframe tbody tr th:only-of-type {\n",
       "        vertical-align: middle;\n",
       "    }\n",
       "\n",
       "    .dataframe tbody tr th {\n",
       "        vertical-align: top;\n",
       "    }\n",
       "\n",
       "    .dataframe thead th {\n",
       "        text-align: right;\n",
       "    }\n",
       "</style>\n",
       "<table border=\"1\" class=\"dataframe\">\n",
       "  <thead>\n",
       "    <tr style=\"text-align: right;\">\n",
       "      <th></th>\n",
       "      <th>High</th>\n",
       "      <th>Low</th>\n",
       "      <th>Open</th>\n",
       "      <th>Close</th>\n",
       "      <th>Volume</th>\n",
       "      <th>Adj Close</th>\n",
       "    </tr>\n",
       "    <tr>\n",
       "      <th>Date</th>\n",
       "      <th></th>\n",
       "      <th></th>\n",
       "      <th></th>\n",
       "      <th></th>\n",
       "      <th></th>\n",
       "      <th></th>\n",
       "    </tr>\n",
       "  </thead>\n",
       "  <tbody>\n",
       "    <tr>\n",
       "      <th>2007-01-03</th>\n",
       "      <td>44.026669</td>\n",
       "      <td>41.703335</td>\n",
       "      <td>43.086666</td>\n",
       "      <td>42.849998</td>\n",
       "      <td>34739100.0</td>\n",
       "      <td>42.849998</td>\n",
       "    </tr>\n",
       "    <tr>\n",
       "      <th>2007-01-04</th>\n",
       "      <td>46.316666</td>\n",
       "      <td>42.423332</td>\n",
       "      <td>42.953335</td>\n",
       "      <td>46.189999</td>\n",
       "      <td>46007700.0</td>\n",
       "      <td>46.189999</td>\n",
       "    </tr>\n",
       "    <tr>\n",
       "      <th>2007-01-05</th>\n",
       "      <td>47.306667</td>\n",
       "      <td>45.166668</td>\n",
       "      <td>45.500000</td>\n",
       "      <td>47.099998</td>\n",
       "      <td>41453400.0</td>\n",
       "      <td>47.099998</td>\n",
       "    </tr>\n",
       "    <tr>\n",
       "      <th>2007-01-08</th>\n",
       "      <td>48.410000</td>\n",
       "      <td>46.606667</td>\n",
       "      <td>47.283333</td>\n",
       "      <td>47.386665</td>\n",
       "      <td>38547300.0</td>\n",
       "      <td>47.386665</td>\n",
       "    </tr>\n",
       "    <tr>\n",
       "      <th>2007-01-09</th>\n",
       "      <td>47.666668</td>\n",
       "      <td>43.263332</td>\n",
       "      <td>47.570000</td>\n",
       "      <td>43.666668</td>\n",
       "      <td>74142000.0</td>\n",
       "      <td>43.666668</td>\n",
       "    </tr>\n",
       "    <tr>\n",
       "      <th>...</th>\n",
       "      <td>...</td>\n",
       "      <td>...</td>\n",
       "      <td>...</td>\n",
       "      <td>...</td>\n",
       "      <td>...</td>\n",
       "      <td>...</td>\n",
       "    </tr>\n",
       "    <tr>\n",
       "      <th>2019-12-24</th>\n",
       "      <td>6.530000</td>\n",
       "      <td>6.340000</td>\n",
       "      <td>6.470000</td>\n",
       "      <td>6.360000</td>\n",
       "      <td>4680400.0</td>\n",
       "      <td>6.360000</td>\n",
       "    </tr>\n",
       "    <tr>\n",
       "      <th>2019-12-26</th>\n",
       "      <td>6.510000</td>\n",
       "      <td>6.350000</td>\n",
       "      <td>6.390000</td>\n",
       "      <td>6.430000</td>\n",
       "      <td>3681900.0</td>\n",
       "      <td>6.430000</td>\n",
       "    </tr>\n",
       "    <tr>\n",
       "      <th>2019-12-27</th>\n",
       "      <td>6.500000</td>\n",
       "      <td>6.380000</td>\n",
       "      <td>6.430000</td>\n",
       "      <td>6.450000</td>\n",
       "      <td>5255000.0</td>\n",
       "      <td>6.450000</td>\n",
       "    </tr>\n",
       "    <tr>\n",
       "      <th>2019-12-30</th>\n",
       "      <td>6.510000</td>\n",
       "      <td>6.320000</td>\n",
       "      <td>6.420000</td>\n",
       "      <td>6.420000</td>\n",
       "      <td>6037500.0</td>\n",
       "      <td>6.420000</td>\n",
       "    </tr>\n",
       "    <tr>\n",
       "      <th>2019-12-31</th>\n",
       "      <td>6.520000</td>\n",
       "      <td>6.390000</td>\n",
       "      <td>6.420000</td>\n",
       "      <td>6.420000</td>\n",
       "      <td>5404400.0</td>\n",
       "      <td>6.420000</td>\n",
       "    </tr>\n",
       "  </tbody>\n",
       "</table>\n",
       "<p>3272 rows × 6 columns</p>\n",
       "</div>"
      ],
      "text/plain": [
       "                 High        Low       Open      Close      Volume  Adj Close\n",
       "Date                                                                         \n",
       "2007-01-03  44.026669  41.703335  43.086666  42.849998  34739100.0  42.849998\n",
       "2007-01-04  46.316666  42.423332  42.953335  46.189999  46007700.0  46.189999\n",
       "2007-01-05  47.306667  45.166668  45.500000  47.099998  41453400.0  47.099998\n",
       "2007-01-08  48.410000  46.606667  47.283333  47.386665  38547300.0  47.386665\n",
       "2007-01-09  47.666668  43.263332  47.570000  43.666668  74142000.0  43.666668\n",
       "...               ...        ...        ...        ...         ...        ...\n",
       "2019-12-24   6.530000   6.340000   6.470000   6.360000   4680400.0   6.360000\n",
       "2019-12-26   6.510000   6.350000   6.390000   6.430000   3681900.0   6.430000\n",
       "2019-12-27   6.500000   6.380000   6.430000   6.450000   5255000.0   6.450000\n",
       "2019-12-30   6.510000   6.320000   6.420000   6.420000   6037500.0   6.420000\n",
       "2019-12-31   6.520000   6.390000   6.420000   6.420000   5404400.0   6.420000\n",
       "\n",
       "[3272 rows x 6 columns]"
      ]
     },
     "execution_count": 12,
     "metadata": {},
     "output_type": "execute_result"
    }
   ],
   "source": [
    "bb = data.DataReader(name=\"BB\", data_source=\"yahoo\", start=\"2007-01-01\", end=\"2020-01-01\")\n",
    "bb"
   ]
  },
  {
   "cell_type": "code",
   "execution_count": 13,
   "id": "2b1d1e8c",
   "metadata": {},
   "outputs": [
    {
     "data": {
      "text/plain": [
       "Date\n",
       "2007-01-03    42.849998\n",
       "2007-01-04    46.189999\n",
       "2007-01-05    47.099998\n",
       "2007-01-08    47.386665\n",
       "2007-01-09    43.666668\n",
       "                ...    \n",
       "2019-12-24     6.360000\n",
       "2019-12-26     6.430000\n",
       "2019-12-27     6.450000\n",
       "2019-12-30     6.420000\n",
       "2019-12-31     6.420000\n",
       "Name: Close, Length: 3272, dtype: float64"
      ]
     },
     "execution_count": 13,
     "metadata": {},
     "output_type": "execute_result"
    }
   ],
   "source": [
    "bb[\"Close\"]"
   ]
  },
  {
   "cell_type": "code",
   "execution_count": 14,
   "id": "a866cb99",
   "metadata": {},
   "outputs": [],
   "source": [
    "def rank_performance(stock_price):\n",
    "    if stock_price <= 10:\n",
    "        return \"Poor\"\n",
    "    elif stock_price <= 50:\n",
    "        return \"satisfactory\"\n",
    "    else :\n",
    "        return \"stellar\""
   ]
  },
  {
   "cell_type": "code",
   "execution_count": 15,
   "id": "0a549644",
   "metadata": {},
   "outputs": [
    {
     "data": {
      "text/plain": [
       "Date\n",
       "2007-01-03    satisfactory\n",
       "2007-01-04    satisfactory\n",
       "2007-01-05    satisfactory\n",
       "2007-01-08    satisfactory\n",
       "2007-01-09    satisfactory\n",
       "                  ...     \n",
       "2019-12-24            Poor\n",
       "2019-12-26            Poor\n",
       "2019-12-27            Poor\n",
       "2019-12-30            Poor\n",
       "2019-12-31            Poor\n",
       "Name: Close, Length: 3272, dtype: object"
      ]
     },
     "execution_count": 15,
     "metadata": {},
     "output_type": "execute_result"
    }
   ],
   "source": [
    "bb[\"Close\"].apply(rank_performance)"
   ]
  },
  {
   "cell_type": "code",
   "execution_count": 16,
   "id": "0c2ae238",
   "metadata": {},
   "outputs": [
    {
     "data": {
      "text/plain": [
       "Poor            1288\n",
       "satisfactory    1125\n",
       "stellar          859\n",
       "Name: Close, dtype: int64"
      ]
     },
     "execution_count": 16,
     "metadata": {},
     "output_type": "execute_result"
    }
   ],
   "source": [
    "bb[\"Close\"].apply(rank_performance).value_counts()"
   ]
  },
  {
   "cell_type": "code",
   "execution_count": 18,
   "id": "115f98af",
   "metadata": {},
   "outputs": [
    {
     "data": {
      "text/plain": [
       "<AxesSubplot:>"
      ]
     },
     "execution_count": 18,
     "metadata": {},
     "output_type": "execute_result"
    },
    {
     "data": {
      "image/png": "[encoded data removed]",
      "text/plain": [
       "<Figure size 432x288 with 1 Axes>"
      ]
     },
     "metadata": {},
     "output_type": "display_data"
    }
   ],
   "source": [
    "bb[\"Close\"].apply(rank_performance).value_counts().plot(kind=\"bar\")"
   ]
  },
  {
   "cell_type": "code",
   "execution_count": 19,
   "id": "070a65ce",
   "metadata": {},
   "outputs": [
    {
     "data": {
      "text/plain": [
       "<AxesSubplot:>"
      ]
     },
     "execution_count": 19,
     "metadata": {},
     "output_type": "execute_result"
    },
    {
     "data": {
      "image/png": "[encoded data removed]",
      "text/plain": [
       "<Figure size 432x288 with 1 Axes>"
      ]
     },
     "metadata": {},
     "output_type": "display_data"
    }
   ],
   "source": [
    "bb[\"Close\"].apply(rank_performance).value_counts().plot(kind=\"barh\")"
   ]
  },
  {
   "cell_type": "markdown",
   "id": "4feef4a5",
   "metadata": {},
   "source": [
    "# Create Pie Chart To Represnt Proportions "
   ]
  },
  {
   "cell_type": "code",
   "execution_count": 20,
   "id": "5490a1df",
   "metadata": {},
   "outputs": [
    {
     "data": {
      "text/html": [
       "<div>\n",
       "<style scoped>\n",
       "    .dataframe tbody tr th:only-of-type {\n",
       "        vertical-align: middle;\n",
       "    }\n",
       "\n",
       "    .dataframe tbody tr th {\n",
       "        vertical-align: top;\n",
       "    }\n",
       "\n",
       "    .dataframe thead th {\n",
       "        text-align: right;\n",
       "    }\n",
       "</style>\n",
       "<table border=\"1\" class=\"dataframe\">\n",
       "  <thead>\n",
       "    <tr style=\"text-align: right;\">\n",
       "      <th></th>\n",
       "      <th>High</th>\n",
       "      <th>Low</th>\n",
       "      <th>Open</th>\n",
       "      <th>Close</th>\n",
       "      <th>Volume</th>\n",
       "      <th>Adj Close</th>\n",
       "    </tr>\n",
       "    <tr>\n",
       "      <th>Date</th>\n",
       "      <th></th>\n",
       "      <th></th>\n",
       "      <th></th>\n",
       "      <th></th>\n",
       "      <th></th>\n",
       "      <th></th>\n",
       "    </tr>\n",
       "  </thead>\n",
       "  <tbody>\n",
       "    <tr>\n",
       "      <th>2007-01-03</th>\n",
       "      <td>44.026669</td>\n",
       "      <td>41.703335</td>\n",
       "      <td>43.086666</td>\n",
       "      <td>42.849998</td>\n",
       "      <td>34739100.0</td>\n",
       "      <td>42.849998</td>\n",
       "    </tr>\n",
       "    <tr>\n",
       "      <th>2007-01-04</th>\n",
       "      <td>46.316666</td>\n",
       "      <td>42.423332</td>\n",
       "      <td>42.953335</td>\n",
       "      <td>46.189999</td>\n",
       "      <td>46007700.0</td>\n",
       "      <td>46.189999</td>\n",
       "    </tr>\n",
       "    <tr>\n",
       "      <th>2007-01-05</th>\n",
       "      <td>47.306667</td>\n",
       "      <td>45.166668</td>\n",
       "      <td>45.500000</td>\n",
       "      <td>47.099998</td>\n",
       "      <td>41453400.0</td>\n",
       "      <td>47.099998</td>\n",
       "    </tr>\n",
       "    <tr>\n",
       "      <th>2007-01-08</th>\n",
       "      <td>48.410000</td>\n",
       "      <td>46.606667</td>\n",
       "      <td>47.283333</td>\n",
       "      <td>47.386665</td>\n",
       "      <td>38547300.0</td>\n",
       "      <td>47.386665</td>\n",
       "    </tr>\n",
       "    <tr>\n",
       "      <th>2007-01-09</th>\n",
       "      <td>47.666668</td>\n",
       "      <td>43.263332</td>\n",
       "      <td>47.570000</td>\n",
       "      <td>43.666668</td>\n",
       "      <td>74142000.0</td>\n",
       "      <td>43.666668</td>\n",
       "    </tr>\n",
       "    <tr>\n",
       "      <th>...</th>\n",
       "      <td>...</td>\n",
       "      <td>...</td>\n",
       "      <td>...</td>\n",
       "      <td>...</td>\n",
       "      <td>...</td>\n",
       "      <td>...</td>\n",
       "    </tr>\n",
       "    <tr>\n",
       "      <th>2019-12-24</th>\n",
       "      <td>6.530000</td>\n",
       "      <td>6.340000</td>\n",
       "      <td>6.470000</td>\n",
       "      <td>6.360000</td>\n",
       "      <td>4680400.0</td>\n",
       "      <td>6.360000</td>\n",
       "    </tr>\n",
       "    <tr>\n",
       "      <th>2019-12-26</th>\n",
       "      <td>6.510000</td>\n",
       "      <td>6.350000</td>\n",
       "      <td>6.390000</td>\n",
       "      <td>6.430000</td>\n",
       "      <td>3681900.0</td>\n",
       "      <td>6.430000</td>\n",
       "    </tr>\n",
       "    <tr>\n",
       "      <th>2019-12-27</th>\n",
       "      <td>6.500000</td>\n",
       "      <td>6.380000</td>\n",
       "      <td>6.430000</td>\n",
       "      <td>6.450000</td>\n",
       "      <td>5255000.0</td>\n",
       "      <td>6.450000</td>\n",
       "    </tr>\n",
       "    <tr>\n",
       "      <th>2019-12-30</th>\n",
       "      <td>6.510000</td>\n",
       "      <td>6.320000</td>\n",
       "      <td>6.420000</td>\n",
       "      <td>6.420000</td>\n",
       "      <td>6037500.0</td>\n",
       "      <td>6.420000</td>\n",
       "    </tr>\n",
       "    <tr>\n",
       "      <th>2019-12-31</th>\n",
       "      <td>6.520000</td>\n",
       "      <td>6.390000</td>\n",
       "      <td>6.420000</td>\n",
       "      <td>6.420000</td>\n",
       "      <td>5404400.0</td>\n",
       "      <td>6.420000</td>\n",
       "    </tr>\n",
       "  </tbody>\n",
       "</table>\n",
       "<p>3272 rows × 6 columns</p>\n",
       "</div>"
      ],
      "text/plain": [
       "                 High        Low       Open      Close      Volume  Adj Close\n",
       "Date                                                                         \n",
       "2007-01-03  44.026669  41.703335  43.086666  42.849998  34739100.0  42.849998\n",
       "2007-01-04  46.316666  42.423332  42.953335  46.189999  46007700.0  46.189999\n",
       "2007-01-05  47.306667  45.166668  45.500000  47.099998  41453400.0  47.099998\n",
       "2007-01-08  48.410000  46.606667  47.283333  47.386665  38547300.0  47.386665\n",
       "2007-01-09  47.666668  43.263332  47.570000  43.666668  74142000.0  43.666668\n",
       "...               ...        ...        ...        ...         ...        ...\n",
       "2019-12-24   6.530000   6.340000   6.470000   6.360000   4680400.0   6.360000\n",
       "2019-12-26   6.510000   6.350000   6.390000   6.430000   3681900.0   6.430000\n",
       "2019-12-27   6.500000   6.380000   6.430000   6.450000   5255000.0   6.450000\n",
       "2019-12-30   6.510000   6.320000   6.420000   6.420000   6037500.0   6.420000\n",
       "2019-12-31   6.520000   6.390000   6.420000   6.420000   5404400.0   6.420000\n",
       "\n",
       "[3272 rows x 6 columns]"
      ]
     },
     "execution_count": 20,
     "metadata": {},
     "output_type": "execute_result"
    }
   ],
   "source": [
    "bb = data.DataReader(name=\"BB\", data_source=\"yahoo\", start=\"2007-01-01\", end=\"2020-01-01\")\n",
    "bb"
   ]
  },
  {
   "cell_type": "code",
   "execution_count": 22,
   "id": "065ca597",
   "metadata": {},
   "outputs": [
    {
     "data": {
      "text/plain": [
       "31.329725964436612"
      ]
     },
     "execution_count": 22,
     "metadata": {},
     "output_type": "execute_result"
    }
   ],
   "source": [
    "mean = bb[\"Close\"].mean()\n",
    "mean"
   ]
  },
  {
   "cell_type": "code",
   "execution_count": 23,
   "id": "6e8aa1a4",
   "metadata": {},
   "outputs": [],
   "source": [
    "def rank_performance(stock_price):\n",
    "    if stock_price >= mean:\n",
    "        return \"above average\"\n",
    "    else :\n",
    "        return \"Below average\""
   ]
  },
  {
   "cell_type": "code",
   "execution_count": 25,
   "id": "c448556a",
   "metadata": {},
   "outputs": [
    {
     "data": {
      "text/plain": [
       "Below average    2145\n",
       "above average    1127\n",
       "Name: Close, dtype: int64"
      ]
     },
     "execution_count": 25,
     "metadata": {},
     "output_type": "execute_result"
    }
   ],
   "source": [
    "bb[\"Close\"].apply(rank_performance).value_counts()"
   ]
  },
  {
   "cell_type": "code",
   "execution_count": 26,
   "id": "669a4cbe",
   "metadata": {},
   "outputs": [],
   "source": [
    "plt.style.use(\"dark_background\")"
   ]
  },
  {
   "cell_type": "code",
   "execution_count": 29,
   "id": "5b78828a",
   "metadata": {},
   "outputs": [
    {
     "data": {
      "text/plain": [
       "<AxesSubplot:ylabel='Close'>"
      ]
     },
     "execution_count": 29,
     "metadata": {},
     "output_type": "execute_result"
    },
    {
     "data": {
      "image/png": "[encoded data removed]",
      "text/plain": [
       "<Figure size 432x288 with 1 Axes>"
      ]
     },
     "metadata": {},
     "output_type": "display_data"
    }
   ],
   "source": [
    "bb[\"Close\"].apply(rank_performance).value_counts().plot(kind=\"pie\", legend=True)"
   ]
  },
  {
   "cell_type": "code",
   "execution_count": null,
   "id": "7c69fe1f",
   "metadata": {},
   "outputs": [],
   "source": []
  },
  {
   "cell_type": "code",
   "execution_count": null,
   "id": "8f9d3886",
   "metadata": {},
   "outputs": [],
   "source": []
  },
  {
   "cell_type": "code",
   "execution_count": null,
   "id": "bb25a389",
   "metadata": {},
   "outputs": [],
   "source": []
  },
  {
   "cell_type": "code",
   "execution_count": null,
   "id": "320d5450",
   "metadata": {},
   "outputs": [],
   "source": []
  },
  {
   "cell_type": "code",
   "execution_count": null,
   "id": "7c87f8fc",
   "metadata": {},
   "outputs": [],
   "source": []
  }
 ],
 "metadata": {
  "kernelspec": {
   "display_name": "Python 3 (ipykernel)",
   "language": "python",
   "name": "python3"
  },
  "language_info": {
   "codemirror_mode": {
    "name": "ipython",
    "version": 3
   },
   "file_extension": ".py",
   "mimetype": "text/x-python",
   "name": "python",
   "nbconvert_exporter": "python",
   "pygments_lexer": "ipython3",
   "version": "3.10.0"
  }
 },
 "nbformat": 4,
 "nbformat_minor": 5
}
